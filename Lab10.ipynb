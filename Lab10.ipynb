{
 "cells": [
  {
   "cell_type": "code",
   "execution_count": 1,
   "metadata": {},
   "outputs": [
    {
     "name": "stdout",
     "output_type": "stream",
     "text": [
      "In chaos theory, the butterfly effect is the sensitive dependence on initial conditions in which a small change in one state of a deterministic nonlinear system can result in large differences in a later state.\n",
      "\n",
      "The term is closely associated with the work of mathematician and meteorologist Edward Lorenz. He noted that butterfly effect is derived from the metaphorical example of the details of a tornado (the exact time of formation, the exact path taken) being influenced by minor perturbations such as a distant butterfly flapping its wings several weeks earlier.\n"
     ]
    }
   ],
   "source": [
    "f = open(\"file.txt\",\"r\")\n",
    "print(f.read())"
   ]
  },
  {
   "cell_type": "code",
   "execution_count": null,
   "metadata": {},
   "outputs": [],
   "source": []
  },
  {
   "cell_type": "code",
   "execution_count": 3,
   "metadata": {},
   "outputs": [
    {
     "name": "stdout",
     "output_type": "stream",
     "text": [
      "['In chaos theory, the butterfly effect is the sensitive dependence on initial conditions in which a small change in one state of a deterministic nonlinear system can result in large differences in a later state.\\n', '\\n', 'The term is closely associated with the work of mathematician and meteorologist Edward Lorenz. He noted that butterfly effect is derived from the metaphorical example of the details of a tornado (the exact time of formation, the exact path taken) being influenced by minor perturbations such as a distant butterfly flapping its wings several weeks earlier.']\n"
     ]
    }
   ],
   "source": [
    "content_array = []\n",
    "f = open(\"file.txt\",\"r\")\n",
    "                #Content_list is the list that contains the read lines.     \n",
    "for line in f:\n",
    "    content_array.append(line)\n",
    "print(content_array)"
   ]
  },
  {
   "cell_type": "code",
   "execution_count": 4,
   "metadata": {},
   "outputs": [
    {
     "name": "stdout",
     "output_type": "stream",
     "text": [
      "['In chaos theory, the butterfly effect is the sensitive dependence on initial conditions in which a small change in one state of a deterministic nonlinear system can result in large differences in a later state.\\n', '\\n', 'The term is closely associated with the work of mathematician and meteorologist Edward Lorenz. He noted that butterfly effect is derived from the metaphorical example of the details of a tornado (the exact time of formation, the exact path taken) being influenced by minor perturbations such as a distant butterfly flapping its wings several weeks earlier.']\n"
     ]
    }
   ],
   "source": [
    "f = open(\"file.txt\",\"r\")\n",
    "content_list = f.readlines()\n",
    "print(content_list)"
   ]
  },
  {
   "cell_type": "code",
   "execution_count": 7,
   "metadata": {},
   "outputs": [
    {
     "name": "stdout",
     "output_type": "stream",
     "text": [
      "longest word/words : deterministic\n",
      "longest word/words : mathematician\n",
      "longest word/words : meteorologist\n",
      "longest word/words : perturbations\n"
     ]
    }
   ],
   "source": [
    "f = open(\"file.txt\",\"r\")\n",
    "words = f.read().split()\n",
    "max_len = len(max(words, key=len))\n",
    "for word in words:\n",
    "    if len(word) == max_len:\n",
    "        print(f'longest word/words : {word}')"
   ]
  },
  {
   "cell_type": "code",
   "execution_count": 3,
   "metadata": {},
   "outputs": [
    {
     "name": "stdout",
     "output_type": "stream",
     "text": [
      "Number of line in the given file : 3\n"
     ]
    }
   ],
   "source": [
    "f = open(\"file.txt\",\"r\")\n",
    "count = 0\n",
    "while f:\n",
    "    if f.readline():\n",
    "        count += 1\n",
    "    else:\n",
    "        break\n",
    "        \n",
    "print(f'Number of line in the given file : {count}')"
   ]
  },
  {
   "cell_type": "code",
   "execution_count": 4,
   "metadata": {},
   "outputs": [
    {
     "name": "stdout",
     "output_type": "stream",
     "text": [
      "Counter({'the': 6, 'a': 5, 'of': 5, 'in': 4, 'butterfly': 3, 'is': 3, 'effect': 2, 'exact': 2, 'In': 1, 'chaos': 1, 'theory,': 1, 'sensitive': 1, 'dependence': 1, 'on': 1, 'initial': 1, 'conditions': 1, 'which': 1, 'small': 1, 'change': 1, 'one': 1, 'state': 1, 'deterministic': 1, 'nonlinear': 1, 'system': 1, 'can': 1, 'result': 1, 'large': 1, 'differences': 1, 'later': 1, 'state.': 1, 'The': 1, 'term': 1, 'closely': 1, 'associated': 1, 'with': 1, 'work': 1, 'mathematician': 1, 'and': 1, 'meteorologist': 1, 'Edward': 1, 'Lorenz.': 1, 'He': 1, 'noted': 1, 'that': 1, 'derived': 1, 'from': 1, 'metaphorical': 1, 'example': 1, 'details': 1, 'tornado': 1, '(the': 1, 'time': 1, 'formation,': 1, 'path': 1, 'taken)': 1, 'being': 1, 'influenced': 1, 'by': 1, 'minor': 1, 'perturbations': 1, 'such': 1, 'as': 1, 'distant': 1, 'flapping': 1, 'its': 1, 'wings': 1, 'several': 1, 'weeks': 1, 'earlier.': 1})\n"
     ]
    }
   ],
   "source": [
    "from collections import Counter\n",
    "f = open(\"file.txt\",\"r\")\n",
    "print(Counter(f.read().split()))"
   ]
  },
  {
   "cell_type": "code",
   "execution_count": 8,
   "metadata": {},
   "outputs": [
    {
     "name": "stdout",
     "output_type": "stream",
     "text": [
      "Size of the file file.txt : 568\n"
     ]
    }
   ],
   "source": [
    "import os as o\n",
    "file_name = \"file.txt\"\n",
    "file_size = o.path.getsize(file_name)\n",
    "print(f'Size of the file {file_name} : {file_size}')"
   ]
  },
  {
   "cell_type": "code",
   "execution_count": 26,
   "metadata": {},
   "outputs": [
    {
     "name": "stdout",
     "output_type": "stream",
     "text": [
      " 1000  Hey  3000  how are you  900 \n"
     ]
    }
   ],
   "source": [
    "l = [' 1000 ', ' Hey ', ' 3000 ', ' how are you ', ' 900 ']\n",
    "g = open(\"demo.txt\",\"w\")\n",
    "for i in l:\n",
    "    g.write(i)\n",
    "    \n",
    "h = open(\"demo.txt\",)\n",
    "print(h.read())"
   ]
  },
  {
   "cell_type": "code",
   "execution_count": 29,
   "metadata": {},
   "outputs": [
    {
     "name": "stdout",
     "output_type": "stream",
     "text": [
      "In chaos theory, the butterfly effect is the sensitive dependence on initial conditions in which a small change in one state of a deterministic nonlinear system can result in large differences in a later state.\n",
      "\n",
      "The term is closely associated with the work of mathematician and meteorologist Edward Lorenz. He noted that butterfly effect is derived from the metaphorical example of the details of a tornado (the exact time of formation, the exact path taken) being influenced by minor perturbations such as a distant butterfly flapping its wings several weeks earlier.\n"
     ]
    }
   ],
   "source": [
    "a = open(\"file.txt\")\n",
    "b = open('trial.txt', 'a')\n",
    "\n",
    "for line in a:\n",
    "    b.write(line)\n",
    "    \n",
    "c = open('trial.txt')\n",
    "print(c.read())"
   ]
  },
  {
   "cell_type": "code",
   "execution_count": null,
   "metadata": {},
   "outputs": [],
   "source": []
  }
 ],
 "metadata": {
  "kernelspec": {
   "display_name": "Python 3",
   "language": "python",
   "name": "python3"
  },
  "language_info": {
   "codemirror_mode": {
    "name": "ipython",
    "version": 3
   },
   "file_extension": ".py",
   "mimetype": "text/x-python",
   "name": "python",
   "nbconvert_exporter": "python",
   "pygments_lexer": "ipython3",
   "version": "3.8.5"
  }
 },
 "nbformat": 4,
 "nbformat_minor": 4
}
