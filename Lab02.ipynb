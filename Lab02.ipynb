{
 "cells": [
  {
   "cell_type": "code",
   "execution_count": 6,
   "metadata": {},
   "outputs": [
    {
     "name": "stdout",
     "output_type": "stream",
     "text": [
      "Enter the number\n",
      "7\n",
      "Given number is ODD\n"
     ]
    }
   ],
   "source": [
    "#Number is EVEN or ODD\n",
    "n=int(input(\"Enter the number\\n\"))\n",
    "if n%2 == 0:\n",
    "    print(\"Given number is EVEN\")\n",
    "else:\n",
    "    print(\"Given number is ODD\")"
   ]
  },
  {
   "cell_type": "code",
   "execution_count": 12,
   "metadata": {},
   "outputs": [
    {
     "name": "stdout",
     "output_type": "stream",
     "text": [
      "Enter the number\n",
      "5\n",
      "Given number is divisible by 5 but 3\n"
     ]
    }
   ],
   "source": [
    "#Number is divisible by 5 or 3\n",
    "no=int(input(\"Enter the number\\n\"))\n",
    "if no%3 == 0 and no%5==0:\n",
    "    print(\"Given number is divisible by 3 & 5\")\n",
    "elif no%3 != 0 and no%5==0:\n",
    "    print(\"Given number is divisible by 5 but 3\")\n",
    "elif no%3 == 0 and no%5!=0:\n",
    "    print(\"Given number is divisible by 3 but 5\")\n",
    "else:\n",
    "    print(\"Not divisible by 3 and 5\")"
   ]
  },
  {
   "cell_type": "code",
   "execution_count": 23,
   "metadata": {},
   "outputs": [
    {
     "name": "stdout",
     "output_type": "stream",
     "text": [
      "Enter the limit: 5\n",
      "Factorial of 5 = 120\n"
     ]
    }
   ],
   "source": [
    "#Factorial of a number\n",
    "num = int(input(\"Enter the limit: \"))\n",
    "f=1\n",
    "for i in range(1,num+1):\n",
    "    f*=i;\n",
    "print(\"Factorial of\",num,\"=\",f)"
   ]
  },
  {
   "cell_type": "code",
   "execution_count": 5,
   "metadata": {},
   "outputs": [
    {
     "name": "stdout",
     "output_type": "stream",
     "text": [
      "Enter the limit: 5\n",
      "0 1 1 2 3 5 8 "
     ]
    }
   ],
   "source": [
    "#Fibonacci series\n",
    "nom=int(input(\"Enter the limit: \"))\n",
    "a = 0\n",
    "b = 1\n",
    "t=0\n",
    "print(a,b,end=\" \")\n",
    "for i in range(nom):\n",
    "    t=a+b\n",
    "    print(t,end=\" \")\n",
    "    a,b=b,t\n"
   ]
  },
  {
   "cell_type": "code",
   "execution_count": 4,
   "metadata": {},
   "outputs": [
    {
     "name": "stdout",
     "output_type": "stream",
     "text": [
      "Enter the first number: 1000\n",
      "Enter the second number: 999\n",
      "999 is the smallest number\n",
      "\n"
     ]
    }
   ],
   "source": [
    "#Find the smallest of two numbers\n",
    "x=int(input(\"Enter the first number: \"))\n",
    "y=int(input(\"Enter the second number: \"))\n",
    "if x>y:\n",
    "    print(y,\"is the smallest number\\n\")\n",
    "else:\n",
    "    print(x, \"is the smallest number\\n\")"
   ]
  },
  {
   "cell_type": "code",
   "execution_count": 2,
   "metadata": {},
   "outputs": [
    {
     "name": "stdout",
     "output_type": "stream",
     "text": [
      "Enter number : 1\n",
      "1 is neither prime nor composite\n"
     ]
    }
   ],
   "source": [
    "#Given number is prime or not\n",
    "number=int(input(\"Enter number : \"))\n",
    "\n",
    "if number==1:\n",
    "     print(\"1 is unique number\")\n",
    "else:\n",
    "    for i in range(2,number):\n",
    "        if number%i==0:\n",
    "            print(number, \"is not a prime number\")\n",
    "    else:\n",
    "            print(number, \"is a prime number\")\n",
    "        \n"
   ]
  },
  {
   "cell_type": "code",
   "execution_count": 18,
   "metadata": {},
   "outputs": [
    {
     "name": "stdout",
     "output_type": "stream",
     "text": [
      "Enter the character: z\n",
      "z is a consonant\n"
     ]
    }
   ],
   "source": [
    "#Given character is vowel or not\n",
    "c=input(\"Enter the character: \")\n",
    "if (c=='a'or c=='e'or c=='i'or c=='o'or c=='u'):\n",
    "    print(c+ \" is a vowel\")\n",
    "else:\n",
    "    print(c+ \" is a consonant\")"
   ]
  },
  {
   "cell_type": "code",
   "execution_count": 23,
   "metadata": {},
   "outputs": [
    {
     "name": "stdout",
     "output_type": "stream",
     "text": [
      "Enter the first number: 11\n",
      "Enter the second number: 22\n",
      "Select the operator you wish to perform\n",
      "\n",
      "-----------------------------------------\n",
      "+ for addition\n",
      "- for subtraction \n",
      "/ for division\n",
      "* for multiplication\n",
      "\n",
      "Enter the operator\n",
      "*\n",
      "Multiplication of  11  and  22  =  242\n"
     ]
    }
   ],
   "source": [
    "#Simple calculator\n",
    "p=int(input(\"Enter the first number: \"))\n",
    "q=int(input(\"Enter the second number: \"))\n",
    "print(\"Select the operator you wish to perform\\n\")\n",
    "print(\"-----------------------------------------\")\n",
    "print(\"+ for addition\")\n",
    "print(\"- for subtraction \")\n",
    "print(\"/ for division\")\n",
    "print(\"* for multiplication\\n\")\n",
    "op=input(\"Enter the operator\\n\")\n",
    "\n",
    "if op=='+':\n",
    "    print(\"Addition of \",p,\" and \",q,\" = \",p+q)\n",
    "elif op=='-':\n",
    "    print(\"Subtraction of \",p,\" and \",q,\" = \",p-q)\n",
    "elif op=='/':\n",
    "    print(\"Division of \",p,\" and \",q,\" = \",p//q)\n",
    "elif op=='*':\n",
    "    print(\"Multiplication of \",p,\" and \",q,\" = \",p*q)"
   ]
  },
  {
   "cell_type": "code",
   "execution_count": 7,
   "metadata": {},
   "outputs": [
    {
     "name": "stdout",
     "output_type": "stream",
     "text": [
      "        * \r\n",
      "       * * \r\n",
      "      * * * \r\n",
      "     * * * * \r\n",
      "    * * * * * \r\n"
     ]
    }
   ],
   "source": [
    "#Pyramid star pattern\n",
    "r=5\n",
    "k = 2*r - 2\n",
    "for i in range(0, r): \n",
    "    for j in range(0, k): \n",
    "        print(end=\" \")  \n",
    "    k = k - 1\n",
    "    for j in range(0, i+1): \n",
    "        print(\"* \", end=\"\") \n",
    "    print(\"\\r\")"
   ]
  },
  {
   "cell_type": "code",
   "execution_count": 13,
   "metadata": {},
   "outputs": [
    {
     "name": "stdout",
     "output_type": "stream",
     "text": [
      "Enter year :2020\n",
      "The year is a leap year!\n"
     ]
    }
   ],
   "source": [
    "#Year is leap year or not\n",
    "year=int(input(\"Enter year :\"))\n",
    "if(year % 4 == 0 and year % 100 != 0 or year % 400 == 0):\n",
    "    print(\"The year is a leap year!\")\n",
    "else:\n",
    "    print(\"The year isn't a leap year!\")"
   ]
  },
  {
   "cell_type": "code",
   "execution_count": null,
   "metadata": {},
   "outputs": [],
   "source": []
  }
 ],
 "metadata": {
  "kernelspec": {
   "display_name": "Python 3",
   "language": "python",
   "name": "python3"
  },
  "language_info": {
   "codemirror_mode": {
    "name": "ipython",
    "version": 3
   },
   "file_extension": ".py",
   "mimetype": "text/x-python",
   "name": "python",
   "nbconvert_exporter": "python",
   "pygments_lexer": "ipython3",
   "version": "3.9.1"
  }
 },
 "nbformat": 4,
 "nbformat_minor": 4
}
