{
 "cells": [
  {
   "cell_type": "code",
   "execution_count": 2,
   "metadata": {},
   "outputs": [
    {
     "name": "stdout",
     "output_type": "stream",
     "text": [
      "Enter First 1:22\n",
      "Enter Second 2:11\n",
      "Sum = 33\n"
     ]
    }
   ],
   "source": [
    "#Sum of two numbers\n",
    "\n",
    "n1= int(input(\"Enter First 1:\"))\n",
    "n2= int(input(\"Enter Second 2:\"))\n",
    "print(\"Sum =\", n1+n2)"
   ]
  },
  {
   "cell_type": "code",
   "execution_count": 3,
   "metadata": {},
   "outputs": [
    {
     "name": "stdout",
     "output_type": "stream",
     "text": [
      "Enter the First name: Ashish\n",
      "Enter the Middle name: \n",
      "Enter the Last name: Alichen\n",
      "Greetings Ashish  Alichen ,Welcome abroad\n"
     ]
    }
   ],
   "source": [
    "# Input first, middle and last name then display greetings\n",
    "\n",
    "a=input(\"Enter the First name: \")\n",
    "b=input(\"Enter the Middle name: \")\n",
    "c=input(\"Enter the Last name: \")\n",
    "print(\"Greetings \"+a+\" \"+b+\" \"+c+\" ,Welcome abroad\")"
   ]
  },
  {
   "cell_type": "code",
   "execution_count": 4,
   "metadata": {},
   "outputs": [
    {
     "name": "stdout",
     "output_type": "stream",
     "text": [
      "Welcome to python programming\n"
     ]
    }
   ],
   "source": [
    "# Welcome program\n",
    "\n",
    "print(\"Welcome to python programming\")"
   ]
  },
  {
   "cell_type": "code",
   "execution_count": null,
   "metadata": {},
   "outputs": [],
   "source": []
  }
 ],
 "metadata": {
  "kernelspec": {
   "display_name": "Python 3",
   "language": "python",
   "name": "python3"
  },
  "language_info": {
   "codemirror_mode": {
    "name": "ipython",
    "version": 3
   },
   "file_extension": ".py",
   "mimetype": "text/x-python",
   "name": "python",
   "nbconvert_exporter": "python",
   "pygments_lexer": "ipython3",
   "version": "3.9.1"
  }
 },
 "nbformat": 4,
 "nbformat_minor": 4
}
