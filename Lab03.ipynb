{
 "cells": [
  {
   "cell_type": "code",
   "execution_count": 3,
   "metadata": {},
   "outputs": [
    {
     "name": "stdout",
     "output_type": "stream",
     "text": [
      "Enter the integer less 10 : 5\n",
      "5\n",
      "6\n",
      "7\n",
      "8\n",
      "9\n",
      "i is no longer less than 10\n"
     ]
    }
   ],
   "source": [
    "#while loop with else statement\n",
    "i = int(input(\"Enter the integer less 10 : \"))\n",
    "while i < 10:\n",
    "    print(i)\n",
    "    i += 1\n",
    "else:\n",
    "    print(\"i is no longer less than 10\")\n"
   ]
  },
  {
   "cell_type": "code",
   "execution_count": 21,
   "metadata": {},
   "outputs": [
    {
     "name": "stdout",
     "output_type": "stream",
     "text": [
      "First five even numbersEven numbers\n",
      "0\n",
      "2\n",
      "4\n",
      "6\n",
      "8\n"
     ]
    }
   ],
   "source": [
    "#first five prime numbers using break statement\n",
    "i = 0\n",
    "c = 1\n",
    "print(\"First five even numbersEven numbers\")\n",
    "for i in range(120):\n",
    "    if i%2 == 0:\n",
    "        print(i)\n",
    "        c+=1\n",
    "    elif c>5:\n",
    "        break"
   ]
  },
  {
   "cell_type": "code",
   "execution_count": 32,
   "metadata": {},
   "outputs": [
    {
     "name": "stdout",
     "output_type": "stream",
     "text": [
      "First five even numbersEven numbers\n",
      "0\n",
      "2\n",
      "4\n",
      "6\n"
     ]
    }
   ],
   "source": [
    "#first four prime numbers using continue\n",
    "i = 0\n",
    "c = 1\n",
    "print(\"First five even numbersEven numbers\")\n",
    "for i in range(8):\n",
    "    if i%2 != 0:\n",
    "        c+=1\n",
    "        continue\n",
    "    elif c<5:\n",
    "        print(i)"
   ]
  },
  {
   "cell_type": "code",
   "execution_count": 33,
   "metadata": {},
   "outputs": [],
   "source": [
    "#Demonstrating pass statement\n",
    "a = 10\n",
    "b = 20\n",
    "  \n",
    "if(a<b): \n",
    "    pass\n",
    "else: \n",
    "    print(\"b<a\")"
   ]
  },
  {
   "cell_type": "code",
   "execution_count": 34,
   "metadata": {},
   "outputs": [
    {
     "name": "stdout",
     "output_type": "stream",
     "text": [
      "Enter the string: ashish alichen\n",
      "Length of the string is  14\n"
     ]
    }
   ],
   "source": [
    "#To calculate the length of a given string\n",
    "s = input(\"Enter the string: \")\n",
    "print(\"Length of the string is \", len(s))"
   ]
  },
  {
   "cell_type": "code",
   "execution_count": 36,
   "metadata": {},
   "outputs": [
    {
     "name": "stdout",
     "output_type": "stream",
     "text": [
      "Enter the string: Ashish Alichen\n",
      "Required output: Asen\n"
     ]
    }
   ],
   "source": [
    "#To get a string made of the first 2 and the last 2 chars from a given a string\n",
    "s = input(\"Enter the string: \")\n",
    "print(\"Required output: \"+s[0:2]+s[-2:])"
   ]
  },
  {
   "cell_type": "code",
   "execution_count": 55,
   "metadata": {},
   "outputs": [
    {
     "name": "stdout",
     "output_type": "stream",
     "text": [
      "Ashish\n",
      "Alichen\n",
      "Alhish Asichen\n"
     ]
    }
   ],
   "source": [
    "a=input()\n",
    "b=input()\n",
    "x=a[0:2]\n",
    "a=a.replace(a[0:2],b[0:2])\n",
    "b=b.replace(b[0:2],x)\n",
    "print(a,b)"
   ]
  },
  {
   "cell_type": "code",
   "execution_count": 61,
   "metadata": {},
   "outputs": [
    {
     "name": "stdout",
     "output_type": "stream",
     "text": [
      "hypothetically\n",
      "hypotheticallying\n"
     ]
    }
   ],
   "source": [
    "s = input()\n",
    "if len(s) < 3:\n",
    "    print(s)\n",
    "elif s[-3:] == 'ing':\n",
    "    print(s + 'ly')\n",
    "else:\n",
    "    print(s + 'ing')"
   ]
  },
  {
   "cell_type": "code",
   "execution_count": 66,
   "metadata": {},
   "outputs": [
    {
     "name": "stdout",
     "output_type": "stream",
     "text": [
      "Ashish Alichen\n",
      "{'A': 2, 's': 2, 'h': 3, 'i': 2, ' ': 1, 'l': 1, 'c': 1, 'e': 1, 'n': 1}\n"
     ]
    }
   ],
   "source": [
    "string = input()\n",
    "f = {}\n",
    "for i in string:\n",
    "    f[i] = f.get(i,0) + 1\n",
    "print(f)"
   ]
  },
  {
   "cell_type": "code",
   "execution_count": null,
   "metadata": {},
   "outputs": [],
   "source": []
  }
 ],
 "metadata": {
  "kernelspec": {
   "display_name": "Python 3",
   "language": "python",
   "name": "python3"
  },
  "language_info": {
   "codemirror_mode": {
    "name": "ipython",
    "version": 3
   },
   "file_extension": ".py",
   "mimetype": "text/x-python",
   "name": "python",
   "nbconvert_exporter": "python",
   "pygments_lexer": "ipython3",
   "version": "3.9.1"
  }
 },
 "nbformat": 4,
 "nbformat_minor": 4
}
