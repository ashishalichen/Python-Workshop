{
 "cells": [
  {
   "cell_type": "code",
   "execution_count": 1,
   "metadata": {},
   "outputs": [
    {
     "data": {
      "text/plain": [
       "(1, 3, 5, 7, 9)"
      ]
     },
     "execution_count": 1,
     "metadata": {},
     "output_type": "execute_result"
    }
   ],
   "source": [
    "t1 = (1,3,5,7,9)\n",
    "t1"
   ]
  },
  {
   "cell_type": "code",
   "execution_count": 2,
   "metadata": {},
   "outputs": [
    {
     "data": {
      "text/plain": [
       "(3, 'Three', 3.3)"
      ]
     },
     "execution_count": 2,
     "metadata": {},
     "output_type": "execute_result"
    }
   ],
   "source": [
    "t2 = (3, \"Three\", 3.3)\n",
    "t2"
   ]
  },
  {
   "cell_type": "code",
   "execution_count": 4,
   "metadata": {},
   "outputs": [
    {
     "name": "stdout",
     "output_type": "stream",
     "text": [
      "One item in tuple - 3\n"
     ]
    }
   ],
   "source": [
    "t3 = (1,3,5,7,9)\n",
    "print(\"One item in tuple -\",t3[1])"
   ]
  },
  {
   "cell_type": "code",
   "execution_count": 7,
   "metadata": {},
   "outputs": [
    {
     "name": "stdout",
     "output_type": "stream",
     "text": [
      "My#Name#is#Ashish#Alichen\n"
     ]
    }
   ],
   "source": [
    "t4 = (\"My\",\"Name\",\"is\",\"Ashish\",\"Alichen\")\n",
    "(a,b,c,d,e) = t4\n",
    "print(a+\"#\"+b+\"#\"+c+\"#\"+d+\"#\"+e)"
   ]
  },
  {
   "cell_type": "code",
   "execution_count": 25,
   "metadata": {},
   "outputs": [
    {
     "name": "stdout",
     "output_type": "stream",
     "text": [
      "[1, 3, 5, 7, 9]\n",
      "(1, 3, 5, 7, 9, 100)\n"
     ]
    }
   ],
   "source": [
    "t5=(1,3,5,7,9)\n",
    "l5=list(t5)\n",
    "print(l5)\n",
    "l5.append(100)\n",
    "t5=tuple(l5)\n",
    "print(t5)"
   ]
  },
  {
   "cell_type": "code",
   "execution_count": 14,
   "metadata": {},
   "outputs": [
    {
     "name": "stdout",
     "output_type": "stream",
     "text": [
      "My Name is Ashish Alichen\n"
     ]
    }
   ],
   "source": [
    "t6 = (\"My\",\"Name\",\"is\",\"Ashish\",\"Alichen\")\n",
    "s6 = ' '.join(t6)\n",
    "print(s6)"
   ]
  },
  {
   "cell_type": "code",
   "execution_count": 15,
   "metadata": {},
   "outputs": [
    {
     "name": "stdout",
     "output_type": "stream",
     "text": [
      "4th from the beginning : 3\n",
      "4th from the end : 6\n"
     ]
    }
   ],
   "source": [
    "t7 = (0,1,2,3,4,5,6,7,8,9)\n",
    "print(\"4th from the beginning :\" ,t7[3])\n",
    "print(\"4th from the end :\" ,t7[-4])"
   ]
  },
  {
   "cell_type": "code",
   "execution_count": 21,
   "metadata": {},
   "outputs": [
    {
     "name": "stdout",
     "output_type": "stream",
     "text": [
      "(2, 4, 4, 4, 6, 6, 6, 6, 6)\n",
      "Enter the number you want to count :4\n",
      "4  appears  3  times\n"
     ]
    }
   ],
   "source": [
    "t8 = (2,4,4,4,6,6,6,6,6)\n",
    "print(t8)\n",
    "n = int(input(\"Enter the number you want to count :\"))\n",
    "print(n,\" appears \",c8,\" times\")"
   ]
  },
  {
   "cell_type": "code",
   "execution_count": 23,
   "metadata": {},
   "outputs": [
    {
     "name": "stdout",
     "output_type": "stream",
     "text": [
      "Enter the number you want to search :22\n",
      "It does not exist\n"
     ]
    }
   ],
   "source": [
    "t9 = (1,3,5,7,9,2,4,6,8,0)\n",
    "n = int(input(\"Enter the number you want to search :\"))\n",
    "e = (n in t9)\n",
    "if e == True:\n",
    "    print(\"It exist\")\n",
    "else:\n",
    "    print(\"It does not exist\")"
   ]
  },
  {
   "cell_type": "code",
   "execution_count": 27,
   "metadata": {},
   "outputs": [
    {
     "name": "stdout",
     "output_type": "stream",
     "text": [
      "(1, 3, 2, 4, 3, 5, 4, 6)\n"
     ]
    }
   ],
   "source": [
    "l10 = [1,3,2,4,3,5,4,6]\n",
    "t10 = tuple(l10)\n",
    "print(t10)"
   ]
  },
  {
   "cell_type": "code",
   "execution_count": 30,
   "metadata": {},
   "outputs": [
    {
     "name": "stdout",
     "output_type": "stream",
     "text": [
      "[1, 3, 5, 7, 9]\n",
      "(1, 3, 5, 9)\n"
     ]
    }
   ],
   "source": [
    "t11=(1,3,5,7,9)\n",
    "l11=list(t11)\n",
    "print(l11)\n",
    "l11.remove(7)\n",
    "t11=tuple(l11)\n",
    "print(t11)"
   ]
  },
  {
   "cell_type": "code",
   "execution_count": 32,
   "metadata": {},
   "outputs": [
    {
     "data": {
      "text/plain": [
       "(6, 4, 8)"
      ]
     },
     "execution_count": 32,
     "metadata": {},
     "output_type": "execute_result"
    }
   ],
   "source": [
    "t12 = (1,4,2,6,4,8,6,0,8)\n",
    "t12[3:6]"
   ]
  },
  {
   "cell_type": "code",
   "execution_count": 48,
   "metadata": {},
   "outputs": [
    {
     "name": "stdout",
     "output_type": "stream",
     "text": [
      "Enter the item :e\n",
      "The index of e: 4\n"
     ]
    }
   ],
   "source": [
    "vowels = ('a', 'b', 'c', 'd', 'e', 'f')\n",
    "a = input(\"Enter the item :\")\n",
    "i = vowels.index(a)\n",
    "print('The index of '+a+':', i)"
   ]
  },
  {
   "cell_type": "code",
   "execution_count": 45,
   "metadata": {},
   "outputs": [
    {
     "name": "stdout",
     "output_type": "stream",
     "text": [
      "Length of the given tuple : 10\n"
     ]
    }
   ],
   "source": [
    "t15 = (1,2,3,4,5,6,7,8,9,0)\n",
    "print(\"Length of the given tuple :\",len(t15))"
   ]
  },
  {
   "cell_type": "code",
   "execution_count": 42,
   "metadata": {},
   "outputs": [
    {
     "name": "stdout",
     "output_type": "stream",
     "text": [
      "(1, 2, 3, 4, 5, 6, 7, 8, 9, 0)\n",
      "(0, 9, 8, 7, 6, 5, 4, 3, 2, 1)\n"
     ]
    }
   ],
   "source": [
    "t14 = (1,2,3,4,5,6,7,8,9,0)\n",
    "print(t14)\n",
    "print(tuple(reversed(t14)))"
   ]
  }
 ],
 "metadata": {
  "kernelspec": {
   "display_name": "Python 3",
   "language": "python",
   "name": "python3"
  },
  "language_info": {
   "codemirror_mode": {
    "name": "ipython",
    "version": 3
   },
   "file_extension": ".py",
   "mimetype": "text/x-python",
   "name": "python",
   "nbconvert_exporter": "python",
   "pygments_lexer": "ipython3",
   "version": "3.9.1"
  }
 },
 "nbformat": 4,
 "nbformat_minor": 4
}
