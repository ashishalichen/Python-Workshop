{
 "cells": [
  {
   "cell_type": "code",
   "execution_count": 8,
   "metadata": {},
   "outputs": [
    {
     "name": "stdout",
     "output_type": "stream",
     "text": [
      "Enter the First side: 10\n",
      "Enter the Second side: 3\n",
      "Enter the Third side: 4\n",
      "First side = 10\n",
      "Second side = 3\n",
      "Third side = 4\n"
     ]
    }
   ],
   "source": [
    "class Triangle:\n",
    "    def __init__(self):\n",
    "        self.a = ''\n",
    "        self.b = ''\n",
    "        self.c = ''\n",
    "        \n",
    "    def create_triangle(self):\n",
    "        self.a =int(input(\"Enter the First side: \"))\n",
    "        self.b =int(input(\"Enter the Second side: \"))\n",
    "        self.c =int(input(\"Enter the Third side: \"))\n",
    "        \n",
    "    def print_sides(self):\n",
    "        if (self.a + self.b) > self.c:\n",
    "            print(f\"First side = {self.a}\")\n",
    "            print(f\"Second side = {self.b}\")\n",
    "            print(f\"Third side = {self.c}\")\n",
    "            \n",
    "        else:\n",
    "            print(\"Triangle cannot be formed with th egiven sides\")\n",
    "        \n",
    "        \n",
    "t = Triangle()\n",
    "t.create_triangle()\n",
    "t.print_sides()\n",
    "\n",
    "    "
   ]
  },
  {
   "cell_type": "code",
   "execution_count": 10,
   "metadata": {},
   "outputs": [
    {
     "name": "stdout",
     "output_type": "stream",
     "text": [
      "Enter the string: Ashish Alichen\n",
      "Given string = Ashish Alichen\n"
     ]
    }
   ],
   "source": [
    "class String:\n",
    "    def __init__(self):\n",
    "        self.s2 = ''\n",
    "\n",
    "    def get_String(self):\n",
    "        self.s2 = input(\"Enter the string: \")\n",
    "\n",
    "    def print_String(self):\n",
    "        print(f\"Given string = {self.s2}\")\n",
    "\n",
    "s = String()\n",
    "s.get_String()\n",
    "s.print_String()"
   ]
  },
  {
   "cell_type": "code",
   "execution_count": 11,
   "metadata": {},
   "outputs": [
    {
     "name": "stdout",
     "output_type": "stream",
     "text": [
      "Enter the length: 5\n",
      "Enter the breadth: 2\n",
      "Perimeter of the rectangle with given parameters = 14\n"
     ]
    }
   ],
   "source": [
    "class Rectangle:\n",
    "    def __init__(self, l, b):\n",
    "        self.l = l\n",
    "        self.b = b\n",
    "        \n",
    "    def per_met(self):\n",
    "        area = 2*(l+b)\n",
    "        print(f\"Perimeter of the rectangle with given parameters = {area}\")\n",
    "        \n",
    "l = int(input(\"Enter the length: \"))\n",
    "b = int(input(\"Enter the breadth: \"))\n",
    "r = Rectangle(l,b)\n",
    "r.per_met()"
   ]
  },
  {
   "cell_type": "code",
   "execution_count": 25,
   "metadata": {},
   "outputs": [
    {
     "name": "stdout",
     "output_type": "stream",
     "text": [
      "Enter the radius: 3\n",
      "Area of circle with given radius = 28.2735\n",
      "Circumference of circle of given radius = 18.849\n"
     ]
    }
   ],
   "source": [
    "class Circle:\n",
    "    def __init__(self,r):\n",
    "        self.r = r\n",
    "        \n",
    "    def C_area(self): \n",
    "        return 3.1415*self.r*self.r\n",
    "        \n",
    "    def C_circum(self):\n",
    "        return 2*3.1415*self.r\n",
    "        \n",
    "radius = float(input(\"Enter the radius: \"))\n",
    "ra = Circle(radius)\n",
    "print(f\"Area of circle with given radius = {ra.C_area()}\")\n",
    "print(f\"Circumference of circle of given radius = {ra.C_circum()}\")"
   ]
  },
  {
   "cell_type": "code",
   "execution_count": 26,
   "metadata": {},
   "outputs": [
    {
     "name": "stdout",
     "output_type": "stream",
     "text": [
      "Enter the radius: 5\n",
      "Area of circle with given radius = 78.53750000000001\n",
      "Circumference of circle of given radius = 31.415000000000003\n"
     ]
    }
   ],
   "source": [
    "class Circle:\n",
    "    def __init__(self,r):\n",
    "        self.r = r\n",
    "        \n",
    "    def getArea(self): \n",
    "        return 3.1415*self.r*self.r\n",
    "        \n",
    "    def getCircumference(self):\n",
    "        return 2*3.1415*self.r\n",
    "        \n",
    "radius = float(input(\"Enter the radius: \"))\n",
    "ra = Circle(radius)\n",
    "print(f\"Area of circle with given radius = {ra.getArea()}\")\n",
    "print(f\"Circumference of circle of given radius = {ra.getCircumference()}\")"
   ]
  },
  {
   "cell_type": "code",
   "execution_count": 38,
   "metadata": {},
   "outputs": [
    {
     "name": "stdout",
     "output_type": "stream",
     "text": [
      "1 = Convert celsiuc to fahrenheit\n",
      "2 = convert fahrenheit to celsius\n",
      "Enter the choice : 1\n",
      "Enter the temperature: 56\n",
      "Temperature in Fahrenheit = 132.8\n",
      "Temperature in Celsius = 56.0\n"
     ]
    }
   ],
   "source": [
    "class Temprature:\n",
    "    def __init__(self,temp,n):\n",
    "        self.temp = temp\n",
    "        self.n = n\n",
    "        \n",
    "    def convertFahrenheit(self): \n",
    "        if self.n == 1:\n",
    "            return (9.0/5.0 * self.temp) +32\n",
    "        else:\n",
    "            return self.temp\n",
    "    def convertCelsius(self):\n",
    "        if self.n == 2:\n",
    "            return (self.temp - 32) * 5.0/9.0\n",
    "        else:\n",
    "            return self.temp\n",
    "        \n",
    "print(\"1 = Convert celsiuc to fahrenheit\")\n",
    "print(\"2 = convert fahrenheit to celsius\")\n",
    "\n",
    "n = int(input(\"Enter the choice : \"))\n",
    "temp = float(input(\"Enter the temperature: \"))\n",
    "te = Temprature(temp,n)\n",
    "print(f\"Temperature in Fahrenheit = {te.convertFahrenheit()}\")\n",
    "print(f\"Temperature in Celsius = {te.convertCelsius()}\")"
   ]
  },
  {
   "cell_type": "code",
   "execution_count": 41,
   "metadata": {},
   "outputs": [
    {
     "name": "stdout",
     "output_type": "stream",
     "text": [
      "Ashish\n",
      "1127\n",
      "None\n",
      "20\n",
      "99\n",
      "Augustin\n",
      "1007\n",
      "None\n",
      "18\n",
      "98\n"
     ]
    }
   ],
   "source": [
    "class Student():\n",
    "    def __init__(self,name,roll):\n",
    "        self.name = name\n",
    "        self.roll= roll\n",
    "        \n",
    "    def display(self):\n",
    "        print(self.name)\n",
    "        print(self.roll)\n",
    "        \n",
    "    def setAge(self,age):\n",
    "        self.age=age\n",
    "        return self.age \n",
    "    \n",
    "    def setMarks(self,marks):\n",
    "        self.marks = marks\n",
    "        return self.marks\n",
    "        \n",
    "p71 = Student('Ashish',1127)\n",
    "p72 = Student('Augustin',1007)\n",
    "print(p71.display())\n",
    "print(p71.setAge(20))\n",
    "print(p71.setMarks(99))\n",
    "print(p72.display())\n",
    "print(p72.setAge(18))\n",
    "print(p72.setMarks(98))\n",
    "\n",
    "        \n"
   ]
  },
  {
   "cell_type": "code",
   "execution_count": 53,
   "metadata": {},
   "outputs": [
    {
     "name": "stdout",
     "output_type": "stream",
     "text": [
      "Time in hour 4.166666666666667\n",
      "Time in minutes 250.00000000000003\n"
     ]
    }
   ],
   "source": [
    "class Time():\n",
    "    def __init__(self, hour, min):\n",
    "        self.hour = hour\n",
    "        self.min = min\n",
    "\n",
    "    def addTime(t1, t2):\n",
    "        t3 = Time(0,0)\n",
    "        if t1.min+t2.min > 60:\n",
    "            t3.hour = (t1.min+t2.min)/60\n",
    "        t3.hour = t3.hour+t1.hour+t2.hour\n",
    "        t3.min = (t1.min+t2.min)-(((t1.min+t2.min)/60)*60)\n",
    "        return t3\n",
    "\n",
    "    def displayTime(self):\n",
    "        print(\"Time in hour\",self.hour)\n",
    "    \n",
    "    def displayMinute(self):\n",
    "        print(\"Time in minutes\",(self.hour*60)+self.min)\n",
    "a = Time(2,50)\n",
    "b = Time(1,20)\n",
    "c = Time.addTime(a,b)\n",
    "c.displayTime()\n",
    "c.displayMinute()\n"
   ]
  },
  {
   "cell_type": "code",
   "execution_count": 2,
   "metadata": {},
   "outputs": [
    {
     "name": "stdout",
     "output_type": "stream",
     "text": [
      "Enter the string : Ashish Alichen 1127 4C\n",
      "4C 1127 Alichen Ashish\n"
     ]
    }
   ],
   "source": [
    "class Rev:\n",
    "    def rev_word(self, str):\n",
    "        return ' '.join(reversed(str.split()))\n",
    "\n",
    "str = input(\"Enter the string : \")\n",
    "sr = Rev()\n",
    "print(sr.rev_word(str))"
   ]
  },
  {
   "cell_type": "code",
   "execution_count": null,
   "metadata": {},
   "outputs": [],
   "source": []
  }
 ],
 "metadata": {
  "kernelspec": {
   "display_name": "Python 3",
   "language": "python",
   "name": "python3"
  },
  "language_info": {
   "codemirror_mode": {
    "name": "ipython",
    "version": 3
   },
   "file_extension": ".py",
   "mimetype": "text/x-python",
   "name": "python",
   "nbconvert_exporter": "python",
   "pygments_lexer": "ipython3",
   "version": "3.9.1"
  }
 },
 "nbformat": 4,
 "nbformat_minor": 4
}
