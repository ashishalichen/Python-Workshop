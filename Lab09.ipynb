{
 "cells": [
  {
   "cell_type": "code",
   "execution_count": 2,
   "metadata": {},
   "outputs": [
    {
     "name": "stdout",
     "output_type": "stream",
     "text": [
      "Class Tiger\n",
      "Animals!!!\n"
     ]
    }
   ],
   "source": [
    "class Animal:    \n",
    "    def legs(self):\n",
    "        print(\"Animals!!!\")\n",
    "class Tiger(Animal):\n",
    "    def legs(self):\n",
    "        print(\"Class Tiger\")\n",
    "class Dog(Animal):\n",
    "    def legs(self):\n",
    "        Animal.legs(self)\n",
    "t=Tiger()\n",
    "t.legs()\n",
    "d=Dog()\n",
    "d.legs()"
   ]
  },
  {
   "cell_type": "code",
   "execution_count": 3,
   "metadata": {},
   "outputs": [
    {
     "name": "stdout",
     "output_type": "stream",
     "text": [
      "Engineer\n",
      "Manager\n"
     ]
    }
   ],
   "source": [
    "class Employee:\n",
    "    def printDesignation(self):\n",
    "        print(\"Company\")  \n",
    "class Engineer(Employee):\n",
    "    def printDesignation(self):\n",
    "        print(\"Engineer\")\n",
    "class Manager(Employee):\n",
    "    def printDesignation(self):\n",
    "        print(\"Manager\")\n",
    "e=Engineer()\n",
    "e.printDesignation()\n",
    "m=Manager()\n",
    "m.printDesignation()"
   ]
  },
  {
   "cell_type": "code",
   "execution_count": 4,
   "metadata": {},
   "outputs": [
    {
     "name": "stdout",
     "output_type": "stream",
     "text": [
      "It's  Wood\n",
      "It's  Whale oil\n"
     ]
    }
   ],
   "source": [
    "class Ark:\n",
    "    A=\"Wood\"\n",
    "    B=\"Whale oil\"\n",
    "    def Ship(self):\n",
    "        print(\"It's \",self.A)\n",
    "        print(\"It's \",self.B)\n",
    "C=Ark()\n",
    "C.Ship()"
   ]
  },
  {
   "cell_type": "code",
   "execution_count": 11,
   "metadata": {},
   "outputs": [
    {
     "name": "stdout",
     "output_type": "stream",
     "text": [
      "I am the parent....respect\n",
      "I am a child........novice\n"
     ]
    }
   ],
   "source": [
    " class Parent:\n",
    "    def __init__(self):\n",
    "        self.p=\"I am the parent....respect\"\n",
    "    def display(self):\n",
    "        print(self.p)\n",
    "class Child(Parent):\n",
    "    def __init__(self):\n",
    "        self.c=\"I am a child........novice\"\n",
    "    def display(self):\n",
    "        print(self.c)\n",
    "\n",
    "O1 = Parent()\n",
    "O2 = Child()\n",
    "O1.display()\n",
    "O2.display()"
   ]
  },
  {
   "cell_type": "code",
   "execution_count": 12,
   "metadata": {},
   "outputs": [
    {
     "ename": "NameError",
     "evalue": "name 'Class1' is not defined",
     "output_type": "error",
     "traceback": [
      "\u001b[1;31m---------------------------------------------------------------------------\u001b[0m",
      "\u001b[1;31mNameError\u001b[0m                                 Traceback (most recent call last)",
      "\u001b[1;32m<ipython-input-12-6764a9d48188>\u001b[0m in \u001b[0;36m<module>\u001b[1;34m\u001b[0m\n\u001b[0;32m      2\u001b[0m     \u001b[1;32mdef\u001b[0m \u001b[0mdisp\u001b[0m\u001b[1;33m(\u001b[0m\u001b[0mself\u001b[0m\u001b[1;33m)\u001b[0m\u001b[1;33m:\u001b[0m\u001b[1;33m\u001b[0m\u001b[1;33m\u001b[0m\u001b[0m\n\u001b[0;32m      3\u001b[0m         \u001b[0mprint\u001b[0m\u001b[1;33m(\u001b[0m\u001b[1;34m\"Class A\"\u001b[0m\u001b[1;33m)\u001b[0m\u001b[1;33m\u001b[0m\u001b[1;33m\u001b[0m\u001b[0m\n\u001b[1;32m----> 4\u001b[1;33m \u001b[1;32mclass\u001b[0m \u001b[0mB\u001b[0m\u001b[1;33m(\u001b[0m\u001b[0mClass1\u001b[0m\u001b[1;33m)\u001b[0m\u001b[1;33m:\u001b[0m\u001b[1;33m\u001b[0m\u001b[1;33m\u001b[0m\u001b[0m\n\u001b[0m\u001b[0;32m      5\u001b[0m     \u001b[1;32mdef\u001b[0m \u001b[0mdisp\u001b[0m\u001b[1;33m(\u001b[0m\u001b[0mself\u001b[0m\u001b[1;33m)\u001b[0m\u001b[1;33m:\u001b[0m\u001b[1;33m\u001b[0m\u001b[1;33m\u001b[0m\u001b[0m\n\u001b[0;32m      6\u001b[0m         \u001b[0mprint\u001b[0m\u001b[1;33m(\u001b[0m\u001b[1;34m\"Class B\"\u001b[0m\u001b[1;33m)\u001b[0m\u001b[1;33m\u001b[0m\u001b[1;33m\u001b[0m\u001b[0m\n",
      "\u001b[1;31mNameError\u001b[0m: name 'Class1' is not defined"
     ]
    }
   ],
   "source": [
    "class A:\n",
    "    def disp(self):\n",
    "        print(\"Class A\")         \n",
    "class B(A):\n",
    "    def disp(self):\n",
    "        print(\"Class B\")\n",
    "class C(A):\n",
    "    def disp(self):\n",
    "        print(\"Class C\")        \n",
    "class D(B, C):\n",
    "    pass   \n",
    "      \n",
    "O = D()\n",
    "O.disp()"
   ]
  },
  {
   "cell_type": "code",
   "execution_count": null,
   "metadata": {},
   "outputs": [],
   "source": []
  }
 ],
 "metadata": {
  "kernelspec": {
   "display_name": "Python 3",
   "language": "python",
   "name": "python3"
  },
  "language_info": {
   "codemirror_mode": {
    "name": "ipython",
    "version": 3
   },
   "file_extension": ".py",
   "mimetype": "text/x-python",
   "name": "python",
   "nbconvert_exporter": "python",
   "pygments_lexer": "ipython3",
   "version": "3.9.1"
  }
 },
 "nbformat": 4,
 "nbformat_minor": 4
}
