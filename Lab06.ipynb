{
 "cells": [
  {
   "cell_type": "code",
   "execution_count": 1,
   "metadata": {},
   "outputs": [],
   "source": [
    "D1 = {}"
   ]
  },
  {
   "cell_type": "code",
   "execution_count": 3,
   "metadata": {},
   "outputs": [],
   "source": [
    "D2 = {'A':10,'B':20}"
   ]
  },
  {
   "cell_type": "code",
   "execution_count": 4,
   "metadata": {},
   "outputs": [],
   "source": [
    "D3 = {'A':1,2:'two',3.0:'Three'}"
   ]
  },
  {
   "cell_type": "code",
   "execution_count": 5,
   "metadata": {},
   "outputs": [
    {
     "name": "stdout",
     "output_type": "stream",
     "text": [
      "{'A': 1, 2: 'two', 3.0: 'Three'}\n"
     ]
    }
   ],
   "source": [
    "D4 = {'A':1,2:'two',3.0:'Three'}\n",
    "print(D4)"
   ]
  },
  {
   "cell_type": "code",
   "execution_count": 7,
   "metadata": {},
   "outputs": [
    {
     "name": "stdout",
     "output_type": "stream",
     "text": [
      "{'A': 1, 2: 'two', 3.0: 'Three'}\n",
      "\n",
      " After deletion :  {2: 'two', 3.0: 'Three'}\n"
     ]
    }
   ],
   "source": [
    "D5 = {'A':1,2:'two',3.0:'Three'}\n",
    "print(D5)\n",
    "del(D5['A'])\n",
    "print(\"\\n After deletion : \", D5)"
   ]
  },
  {
   "cell_type": "code",
   "execution_count": 8,
   "metadata": {},
   "outputs": [],
   "source": [
    "D6 = {'A':1,2:'two',3.0:'Three'}\n",
    "del(D6)"
   ]
  },
  {
   "cell_type": "code",
   "execution_count": 9,
   "metadata": {},
   "outputs": [
    {
     "name": "stdout",
     "output_type": "stream",
     "text": [
      "Three\n"
     ]
    }
   ],
   "source": [
    "D7 = {'A':1,2:'two',3.0:'Three'}\n",
    "print(D7[3.0])"
   ]
  },
  {
   "cell_type": "code",
   "execution_count": 16,
   "metadata": {},
   "outputs": [
    {
     "name": "stdout",
     "output_type": "stream",
     "text": [
      "Enter the key : 9\n",
      "Key is not present\n"
     ]
    }
   ],
   "source": [
    "D8 = {1: 'A', 2: 'B', 3: 'C', 4: 'D', 5: 'E', 6: 'F'}\n",
    "k = int(input(\"Enter the key : \"))\n",
    "if k in D8.keys():\n",
    "    print(\"Key is present\")\n",
    "else:\n",
    "    print(\"Key is not present\")"
   ]
  },
  {
   "cell_type": "code",
   "execution_count": 19,
   "metadata": {},
   "outputs": [
    {
     "name": "stdout",
     "output_type": "stream",
     "text": [
      "Before update :  {1: 'A', 2: 'B', 3: 'C', 4: 'D', 5: 'E', 6: 'F'}\n",
      "\n",
      " After the update :  {1: 'A', 2: 'Z', 3: 'C', 4: 'D', 5: 'E', 6: 'F'}\n"
     ]
    }
   ],
   "source": [
    "D9 = {1: 'A', 2: 'B', 3: 'C', 4: 'D', 5: 'E', 6: 'F'}\n",
    "print(\"Before update : \", D9)\n",
    "D91 = {2:'Z'}\n",
    "D9.update(D91)\n",
    "print(\"\\n After the update : \", D9)\n"
   ]
  },
  {
   "cell_type": "code",
   "execution_count": 23,
   "metadata": {},
   "outputs": [
    {
     "name": "stdout",
     "output_type": "stream",
     "text": [
      "Enter the key : 9\n",
      "Enter the valueQ\n",
      "\n",
      " Dictionary after adding a pair of key and value :  {1: 'A', 2: 'B', 3: 'C', 4: 'D', 5: 'E', 6: 'F', 9: 'Q'}\n"
     ]
    }
   ],
   "source": [
    "D10 = {1: 'A', 2: 'B', 3: 'C', 4: 'D', 5: 'E', 6: 'F'}\n",
    "key = int(input(\"Enter the key : \"))\n",
    "val = input(\"Enter the value\")\n",
    "D10[key] = val\n",
    "print(\"\\n Dictionary after adding a pair of key and value : \",D10)"
   ]
  },
  {
   "cell_type": "code",
   "execution_count": 24,
   "metadata": {},
   "outputs": [
    {
     "name": "stdout",
     "output_type": "stream",
     "text": [
      "{0: 0, 1: 1, 2: 4, 3: 9, 4: 16, 5: 25, 6: 36, 7: 49, 8: 64, 9: 81}\n"
     ]
    }
   ],
   "source": [
    "D11 = {}\n",
    "for i in range(10):\n",
    "    D11[i] = i*i\n",
    "print(D11)"
   ]
  },
  {
   "cell_type": "code",
   "execution_count": 28,
   "metadata": {},
   "outputs": [
    {
     "name": "stdout",
     "output_type": "stream",
     "text": [
      "{1: {'A': 10, 'B': 20}}\n"
     ]
    }
   ],
   "source": [
    "D12 = {1:{'A':10,'B':20}}\n",
    "print(D12)"
   ]
  },
  {
   "cell_type": "code",
   "execution_count": 35,
   "metadata": {},
   "outputs": [
    {
     "name": "stdout",
     "output_type": "stream",
     "text": [
      "Expected result :  {1: 10, 2: 20, 3: 30, 4: 40, 5: 50, 6: 60}\n"
     ]
    }
   ],
   "source": [
    "dic1={1:10, 2:20}\n",
    "dic2={3:30, 4:40}\n",
    "dic3={5:50,6:60}\n",
    "D13 = {**dic1, **dic2, **dic3}\n",
    "print(\"Expected result : \",D13)\n"
   ]
  },
  {
   "cell_type": "code",
   "execution_count": 38,
   "metadata": {},
   "outputs": [
    {
     "name": "stdout",
     "output_type": "stream",
     "text": [
      "Sum of values in the dictionaries :  210\n"
     ]
    }
   ],
   "source": [
    "D14 = {1: 10, 2: 20, 3: 30, 4: 40, 5: 50, 6: 60}\n",
    "s = 0\n",
    "for i in D14.keys():\n",
    "    s += D14[i]\n",
    "print(\"Sum of values in the dictionaries : \",s)"
   ]
  },
  {
   "cell_type": "code",
   "execution_count": 37,
   "metadata": {},
   "outputs": [
    {
     "name": "stdout",
     "output_type": "stream",
     "text": [
      "Value :  20\n"
     ]
    }
   ],
   "source": [
    "D15 = {1:{'A':10,'B':20}}\n",
    "print(\"Value : \",D15[1]['B'])"
   ]
  },
  {
   "cell_type": "code",
   "execution_count": 39,
   "metadata": {},
   "outputs": [
    {
     "name": "stdout",
     "output_type": "stream",
     "text": [
      "{1: 1, 2: 4, 3: 9, 4: 16, 5: 25, 6: 36, 7: 49, 8: 64, 9: 81, 10: 100, 11: 121, 12: 144, 13: 169, 14: 196, 15: 225}\n"
     ]
    }
   ],
   "source": [
    "D16 = {}\n",
    "for i in range(1,16):\n",
    "    D16[i] = i**2\n",
    "print(D16)"
   ]
  },
  {
   "cell_type": "code",
   "execution_count": 3,
   "metadata": {},
   "outputs": [
    {
     "name": "stdout",
     "output_type": "stream",
     "text": [
      "{1: 1, 2: 2, 3: 6, 4: 24, 5: 120, 6: 720, 7: 5040, 8: 40320, 9: 362880}\n"
     ]
    }
   ],
   "source": [
    "D17 = {}\n",
    "f = 1\n",
    "for i in range(1,10):\n",
    "    f *= i\n",
    "    D17[i] = f\n",
    "print(D17)"
   ]
  },
  {
   "cell_type": "code",
   "execution_count": null,
   "metadata": {},
   "outputs": [],
   "source": []
  },
  {
   "cell_type": "code",
   "execution_count": 4,
   "metadata": {},
   "outputs": [],
   "source": [
    "S1 = {'Hey', 'How', 'Are', 'You'}"
   ]
  },
  {
   "cell_type": "code",
   "execution_count": 23,
   "metadata": {},
   "outputs": [
    {
     "name": "stdout",
     "output_type": "stream",
     "text": [
      "{'Hey', 'You', 'How', 'Are'}\n",
      "{'Are', 'How', 'Fine', 'You', 'Hey'}\n"
     ]
    }
   ],
   "source": [
    "S2 = {'Hey', 'How', 'Are', 'You'}\n",
    "print(S2)\n",
    "S21 = 'Fine'\n",
    "S2.add(S21)\n",
    "print(S2)"
   ]
  },
  {
   "cell_type": "code",
   "execution_count": 15,
   "metadata": {},
   "outputs": [
    {
     "name": "stdout",
     "output_type": "stream",
     "text": [
      "{'megamind'}\n",
      "{'megamind', 'is', 'back'}\n"
     ]
    }
   ],
   "source": [
    "S3 = {'megamind'}\n",
    "print(S3)\n",
    "S31 = {'is', 'back'}\n",
    "S3.update(S31)\n",
    "print(S3)\n"
   ]
  },
  {
   "cell_type": "code",
   "execution_count": 17,
   "metadata": {},
   "outputs": [
    {
     "name": "stdout",
     "output_type": "stream",
     "text": [
      "Length of the set : 4\n"
     ]
    }
   ],
   "source": [
    "S4 = {'Hey', 'How', 'Are', 'You'}\n",
    "print(\"Length of the set :\",len(S4))"
   ]
  },
  {
   "cell_type": "code",
   "execution_count": 18,
   "metadata": {},
   "outputs": [
    {
     "name": "stdout",
     "output_type": "stream",
     "text": [
      "{'Hey', 'You', 'How', 'Are'}\n",
      "{'Hey', 'You', 'Are'}\n"
     ]
    }
   ],
   "source": [
    "S5 = {'Hey', 'How', 'Are', 'You'}\n",
    "print(S5)\n",
    "S5.remove('How')\n",
    "print(S5)"
   ]
  },
  {
   "cell_type": "code",
   "execution_count": 19,
   "metadata": {},
   "outputs": [
    {
     "name": "stdout",
     "output_type": "stream",
     "text": [
      "Hey\n"
     ]
    }
   ],
   "source": [
    "S6 = {'Hey', 'How', 'Are', 'You'}\n",
    "print(S6.pop())"
   ]
  },
  {
   "cell_type": "code",
   "execution_count": 28,
   "metadata": {},
   "outputs": [
    {
     "name": "stdout",
     "output_type": "stream",
     "text": [
      "{'Hey', 'You', 'How', 'Are'}\n",
      "{'Are', 'How', 'Fine', 'Hey', 'You'}\n"
     ]
    }
   ],
   "source": [
    "S7 = {'Hey', 'How', 'Are', 'You'}\n",
    "print(S7)\n",
    "S71 = {'Fine'}\n",
    "S7.update(S71)\n",
    "print(S7)"
   ]
  },
  {
   "cell_type": "code",
   "execution_count": 30,
   "metadata": {},
   "outputs": [
    {
     "name": "stdout",
     "output_type": "stream",
     "text": [
      "{'Hey'}\n"
     ]
    }
   ],
   "source": [
    "S81 = {'Hey', 'How', 'Are', 'You'}\n",
    "S82 = {'Hey', 'Good', 'bye'}\n",
    "print(S81 & S82)"
   ]
  },
  {
   "cell_type": "code",
   "execution_count": 32,
   "metadata": {},
   "outputs": [
    {
     "name": "stdout",
     "output_type": "stream",
     "text": [
      "{'Are', 'How', 'Good', 'Hey', 'You', 'bye'}\n"
     ]
    }
   ],
   "source": [
    "S91 = {'Hey', 'How', 'Are', 'You'}\n",
    "S92 = {'Hey', 'Good', 'bye'}\n",
    "print(S91 | S92)"
   ]
  },
  {
   "cell_type": "code",
   "execution_count": 33,
   "metadata": {},
   "outputs": [
    {
     "name": "stdout",
     "output_type": "stream",
     "text": [
      "None\n"
     ]
    }
   ],
   "source": [
    "S10 = {'Hey', 'How', 'Are', 'You'}\n",
    "print(S10.clear())"
   ]
  },
  {
   "cell_type": "code",
   "execution_count": 35,
   "metadata": {},
   "outputs": [
    {
     "name": "stdout",
     "output_type": "stream",
     "text": [
      "False\n",
      "True\n",
      "True\n",
      "False\n"
     ]
    }
   ],
   "source": [
    "S11a = {1, 2, 3, 4, 5}\n",
    "S11b = {1, 2, 3}\n",
    "print(S11a.issubset(S11b))\n",
    "print(S11b.issubset(S11a))\n",
    "print(S11a.issuperset(S11b))\n",
    "print(S11b.issuperset(S11a))"
   ]
  },
  {
   "cell_type": "code",
   "execution_count": 36,
   "metadata": {},
   "outputs": [
    {
     "name": "stdout",
     "output_type": "stream",
     "text": [
      "{4, 5}\n"
     ]
    }
   ],
   "source": [
    "S12a = {1, 2, 3, 4, 5}\n",
    "S12b = {1, 2, 3}\n",
    "print(S12a - S12b)"
   ]
  },
  {
   "cell_type": "code",
   "execution_count": 37,
   "metadata": {},
   "outputs": [
    {
     "name": "stdout",
     "output_type": "stream",
     "text": [
      "{4, 5, 7, 9}\n"
     ]
    }
   ],
   "source": [
    "S12a = {1, 2, 3, 4, 5}\n",
    "S12b = {1, 2, 3, 9, 7}\n",
    "print(S12a ^ S12b)"
   ]
  },
  {
   "cell_type": "code",
   "execution_count": null,
   "metadata": {},
   "outputs": [],
   "source": []
  }
 ],
 "metadata": {
  "kernelspec": {
   "display_name": "Python 3",
   "language": "python",
   "name": "python3"
  },
  "language_info": {
   "codemirror_mode": {
    "name": "ipython",
    "version": 3
   },
   "file_extension": ".py",
   "mimetype": "text/x-python",
   "name": "python",
   "nbconvert_exporter": "python",
   "pygments_lexer": "ipython3",
   "version": "3.9.1"
  }
 },
 "nbformat": 4,
 "nbformat_minor": 4
}
